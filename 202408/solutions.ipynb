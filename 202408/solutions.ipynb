{
 "cells": [
  {
   "cell_type": "markdown",
   "metadata": {},
   "source": [
    "# 8.29\n",
    "## T1. [Five Dimensional Points](https://codeforces.com/problemset/problem/850/A)\n",
    "- **题意**: 给定一个5维空间中的n个点，计算其中“完美点”的个数\n",
    "- **题解**: 考虑**上限情况**，然后暴力求解，事实上，需要考虑的点个数最多不会超过$2\\times k + 1$个点\n",
    "___\n",
    "**Proposition**: 给定$k$维空间的$n$个点，构造两两夹角非锐角的向量，最多需要考虑的节点个数不超过$2\\times k + 1$\n",
    "\n",
    "**Proof**: 在$k$维空间中，固定一个点，构造两两间夹角非锐角的向量，个数最多的情况显然是两两正交，此时向量个数最多为$k$(线性空间的维度)，考虑正负两个方向，此时需要计算的点个数为$2\\times k$，再考虑出发点，最终需要考虑的点个数最多为$2 \\times k + 1$，当节点个数超过此值时，必然会出现两个向量夹角为锐角."
   ]
  },
  {
   "cell_type": "code",
   "execution_count": null,
   "metadata": {},
   "outputs": [],
   "source": [
    "def vec(a, b):\n",
    "    return [y - x for x, y in zip(a, b)]\n",
    "\n",
    "def cal(a, b): \n",
    "    return sum([x * y for x, y in zip(a, b)])\n",
    "\n",
    "n = int(input()) \n",
    "if n >= 12: \n",
    "    print(0)\n",
    "    exit()\n",
    "pts = [list(map(int, input().split())) for _ in range(n)]\n",
    "\n",
    "outs = [] \n",
    "\n",
    "for i in range(n): \n",
    "    ok = True \n",
    "    for j in range(n): \n",
    "        for k in range(j):\n",
    "            if cal(vec(pts[i], pts[j]), vec(pts[i], pts[k])) > 0: \n",
    "                ok = False \n",
    "    if ok: \n",
    "        outs.append(f\"{i + 1}\")\n",
    "\n",
    "print(len(outs))\n",
    "print(\" \".join(outs))"
   ]
  },
  {
   "cell_type": "markdown",
   "metadata": {},
   "source": [
    "## T2. [Robo-Footballer](https://codeforces.com/problemset/problem/248/C)\n",
    "- **题意**: 在y轴上有一个区间，表示一个球门，给定球的位置$(x_b, y_b)$，需要通过将球踢到墙($y=y_w$)上，通过折射之后让球通过球门\n",
    "- **题解**:\n",
    "  本题主要考察问题转换:  \n",
    "  1. 考虑球门的镜像区间, 将折射问题简化为求直线交点\n",
    "  2. 考虑到球的直径$r$, 判断条件转换为判断镜像后区间的下端点与球的线路的最短距离是否超过$r$"
   ]
  },
  {
   "cell_type": "code",
   "execution_count": null,
   "metadata": {},
   "outputs": [],
   "source": [
    "y1, y2, yw, xb, yb, r = map(int, input().split())\n",
    "y1, y2 = 2 * yw - 2 * r - y2, 2 * yw - 2 * r - y1 \n",
    "\n",
    "if r ** 2 * ((yb - y2 + r) ** 2 + xb ** 2) > xb ** 2 * (y2 - y1 - r) ** 2: \n",
    "    print(-1)\n",
    "else:\n",
    "    print((yw - y2) * xb / (yb - y2 + r))"
   ]
  },
  {
   "cell_type": "markdown",
   "metadata": {},
   "source": [
    "# 8.30\n",
    "## T1. [Code For 1(CF)](https://codeforces.com/problemset/problem/768/B)\n",
    "- 题意: 给定一个列表，初始只有一个元素$n$，每次取出一个大于1的元素$x$，并在相同位置加入三个数，分别是$\\frac{x}{2}, x \\text{mod} 2, \\frac{x}{2}$，直至最终全为1\n",
    "- 题解: 首先问题中的列表可以转换为满二叉树的中序遍历序列，只需要确定每个节点的访问编号即可，由于除完后的每个数必然都是1，只需要判断非叶子节点的奇偶性即可，可以使用递归的判断。"
   ]
  },
  {
   "cell_type": "code",
   "execution_count": null,
   "metadata": {},
   "outputs": [],
   "source": [
    "# 问题中的列表可以转换为满二叉树的中序遍历序列\n",
    "# 只需要确定每个节点的访问编号即可，由于除完后的每个数必然都是1，只需要用递归判断编号在[l, r]内所有非叶子节点的奇偶性\n",
    "# https://codeforces.com/contest/768/submission/278711521\n",
    "\n",
    "n, l, r = map(int, input().split())\n",
    "\n",
    "ans = r - l + 1\n",
    "\n",
    "def dfs(v: int, c: int): \n",
    "    if v == 0 or v == 1: \n",
    "        return 1 - v\n",
    "\n",
    "    res = 0\n",
    "    cnt = (1 << (v >> 1).bit_length()) - 1 + c # 可能访问的节点总个数\n",
    "\n",
    "    if l <= cnt + 1: \n",
    "        # 访问左子树\n",
    "        if cnt < r: \n",
    "            # 判断当前节点\n",
    "            res += 1 - v % 2\n",
    "        res += dfs(v >> 1, c)\n",
    "        # 访问右子树\n",
    "        if cnt + 1 < r: \n",
    "            res += dfs(v >> 1, cnt + 1)\n",
    "    else: \n",
    "        # 访问右子树\n",
    "        res += dfs(v >> 1, cnt + 1)\n",
    "    \n",
    "    return res\n",
    "    \n",
    "res = dfs(n, 0)\n",
    "print(ans - res)"
   ]
  },
  {
   "cell_type": "markdown",
   "metadata": {},
   "source": [
    "## T2. [Destroy it!](https://codeforces.com/problemset/problem/1176/F)\n",
    "- 题意: n个回合，每个回合给定k张卡片，每次选择代价不超过3的卡片，逢10加倍，计算最大伤害\n",
    "- 题解: \n",
    "  1) 容易联想到背包问题，但是有个选择的卡片\"逢10加倍\"的条件，遇到这种具有周期性的问题，可以考虑对周期取模构建状态表达:\n",
    "  - 状态`dp[i]`: 在某一回合选择的卡片个数对10取模为i的最大伤害\n",
    "  2) 每一回合最大代价不能超过3，因此每一回合的方案个数其实是固定的，只需要暴力枚举所有方案即可"
   ]
  },
  {
   "cell_type": "code",
   "execution_count": null,
   "metadata": {},
   "outputs": [],
   "source": [
    "# https://codeforces.com/contest/1176/submission/278734296\n",
    "\n",
    "n = int(input()) \n",
    "inf = 10 ** 11 \n",
    "dp  = [0] + [-inf] * 9 \n",
    "ndp = [-inf] * 10\n",
    "\n",
    "for _ in range(n): \n",
    "    k = int(input())\n",
    "    vs = [[] for _ in range(4)]\n",
    "\n",
    "    for _ in range(k):\n",
    "        i, v = map(int, input().split())\n",
    "        vs[i].append(v)\n",
    "\n",
    "    for i in range(1, 4): \n",
    "        vs[i] = nlargest(3 // i, vs[i]) \n",
    "\n",
    "    for c1 in range(min(3, len(vs[1])) + 1): \n",
    "        for c2 in range(min(c1 <= 1, len(vs[2])) + 1):\n",
    "            for c3 in range(min(c1 == 0 and c2 == 0, len(vs[3])) + 1): \n",
    "\n",
    "                d  = sum(vs[1][:c1]) + sum(vs[2][:c2]) + sum(vs[3][:c3])\n",
    "                mx = max([0] + vs[1][:c1] + vs[2][:c2] + vs[3][:c3])\n",
    "\n",
    "                for i in range(10): \n",
    "                    v = dp[i] + d\n",
    "                    cnt = i + c1 + c2 + c3 \n",
    "                    if cnt >= 10:\n",
    "                        cnt -= 10 \n",
    "                        v   += mx \n",
    "                    ndp[cnt] = max(ndp[cnt], v)\n",
    "                    \n",
    "    dp, ndp = ndp[:], [-inf] * 10\n",
    "\n",
    "print(max(dp))"
   ]
  },
  {
   "cell_type": "markdown",
   "metadata": {},
   "source": [
    "# 8.31\n",
    "## T1. [Preparing for Merge Sort](https://codeforces.com/problemset/problem/847/B)\n",
    "- 题意: 给一个长度为n的序列，按顺序扫描，得到数个单调递增子序列\n",
    "- 题解: 二分的应用，一道比较典的题，类似于单调栈，记录下每个子序列最后一个数，这个数组一定是单调递减的，这个时候可以用二分寻找每次插入的位置即可"
   ]
  },
  {
   "cell_type": "code",
   "execution_count": null,
   "metadata": {},
   "outputs": [],
   "source": [
    "n = int(input()) \n",
    "a = map(int, input().split()) \n",
    "\n",
    "outs = [[]] \n",
    "lsts = [0] \n",
    "\n",
    "for x in a: \n",
    "    l, r = 0, len(lsts) - 1\n",
    "    while l < r: \n",
    "        mid = l + r >> 1 \n",
    "        if lsts[mid] < x: r = mid \n",
    "        else: l = mid + 1 \n",
    "    if lsts[l] >= x: \n",
    "        outs.append([f'{x}'])\n",
    "        lsts.append(x)\n",
    "    else:\n",
    "        outs[l].append(f'{x}')\n",
    "        lsts[l] = x \n",
    "\n",
    "print('\\n'.join([' '.join(out) for out in outs]))"
   ]
  }
 ],
 "metadata": {
  "language_info": {
   "name": "python"
  }
 },
 "nbformat": 4,
 "nbformat_minor": 2
}
